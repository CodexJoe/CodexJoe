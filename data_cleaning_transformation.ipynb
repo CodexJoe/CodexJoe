{
  "nbformat": 4,
  "nbformat_minor": 0,
  "metadata": {
    "colab": {
      "provenance": [],
      "authorship_tag": "ABX9TyPUCG8abI24k1btp1kY0y/e",
      "include_colab_link": true
    },
    "kernelspec": {
      "name": "python3",
      "display_name": "Python 3"
    },
    "language_info": {
      "name": "python"
    }
  },
  "cells": [
    {
      "cell_type": "markdown",
      "metadata": {
        "id": "view-in-github",
        "colab_type": "text"
      },
      "source": [
        "<a href=\"https://colab.research.google.com/github/CodexJoe/CodexJoe/blob/main/data_cleaning_transformation.ipynb\" target=\"_parent\"><img src=\"https://colab.research.google.com/assets/colab-badge.svg\" alt=\"Open In Colab\"/></a>"
      ]
    },
    {
      "cell_type": "code",
      "execution_count": 8,
      "metadata": {
        "colab": {
          "base_uri": "https://localhost:8080/"
        },
        "id": "xhkhGTMJO9Vz",
        "outputId": "6e742ff3-d8bd-42c3-d290-5700ddd3d2df"
      },
      "outputs": [
        {
          "output_type": "stream",
          "name": "stdout",
          "text": [
            "name        0\n",
            "score       2\n",
            "attempts    1\n",
            "qualify     1\n",
            "dtype: int64\n",
            "        name  score  attempts  no  yes\n",
            "a  Anastasia   12.5       1.0   0    1\n",
            "b       Dima    9.0       3.0   1    0\n",
            "c  Katherine   16.5       2.0   0    1\n",
            "d      James   14.0       3.0   1    0\n",
            "e      Emily    9.0       2.0   1    0\n",
            "f    Michael   20.0       3.0   0    1\n",
            "g    Matthew   14.5       1.0   0    1\n",
            "h      Laura   14.0       1.0   1    0\n",
            "i      Kevin    8.0       2.0   0    1\n",
            "j      Jonas   19.0       1.0   0    1\n",
            "k      Elias   20.0       3.0   0    1\n",
            "l     Myriam   16.0       2.0   0    1\n"
          ]
        }
      ],
      "source": [
        "import pandas as pd, numpy as np \n",
        "import sklearn.preprocessing as sk\n",
        "\n",
        "exam_data = {'name': ['Anastasia', 'Dima', 'Katherine', 'James', 'Emily', 'Michael', 'Matthew', 'Laura', 'Kevin', 'Jonas', \"Elias\", 'Myriam'],\n",
        "\n",
        "'score': [12.5, 9, 16.5, np.nan, 9, 20, 14.5, np.nan , 8, 19, 20, 16],\n",
        "\n",
        "'attempts': [1, 3, 2, 3, 2, 3, 1, 1, np.nan ,1, 3, 2],\n",
        "\n",
        "'qualify': ['yes', 'no', 'yes', 'no', 'no', 'yes', 'yes', 'no',np.nan , 'yes', 'yes', 'yes']}\n",
        "\n",
        "labels = ['a', 'b', 'c', 'd', 'e', 'f', 'g', 'h', 'i', 'j', 'k', 'l']\n",
        "\n",
        "my_exam_data = pd.DataFrame(exam_data)\n",
        "my_exam_data.index = labels\n",
        "print(my_exam_data.isna().sum())\n",
        "my_exam_data['score'].fillna(14, inplace = True)\n",
        "my_exam_data['attempts'].fillna(2, inplace = True)\n",
        "my_exam_data['qualify'].fillna('yes', inplace = True)\n",
        "one_hot = pd.get_dummies(my_exam_data['qualify'])\n",
        "my_exam_data = my_exam_data.drop('qualify', axis = 1)\n",
        "my_exam_data = my_exam_data.join(one_hot)\n",
        "print(my_exam_data)"
      ]
    }
  ]
}