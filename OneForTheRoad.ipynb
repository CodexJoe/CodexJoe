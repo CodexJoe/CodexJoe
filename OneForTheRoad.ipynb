{
  "nbformat": 4,
  "nbformat_minor": 0,
  "metadata": {
    "colab": {
      "provenance": [],
      "authorship_tag": "ABX9TyOBl/o80WPHgUwm9rbUBIgG",
      "include_colab_link": true
    },
    "kernelspec": {
      "name": "python3",
      "display_name": "Python 3"
    },
    "language_info": {
      "name": "python"
    }
  },
  "cells": [
    {
      "cell_type": "markdown",
      "metadata": {
        "id": "view-in-github",
        "colab_type": "text"
      },
      "source": [
        "<a href=\"https://colab.research.google.com/github/CodexJoe/CodexJoe/blob/main/OneForTheRoad.ipynb\" target=\"_parent\"><img src=\"https://colab.research.google.com/assets/colab-badge.svg\" alt=\"Open In Colab\"/></a>"
      ]
    },
    {
      "cell_type": "code",
      "execution_count": 4,
      "metadata": {
        "colab": {
          "base_uri": "https://localhost:8080/"
        },
        "id": "3-0gPIbL2gYY",
        "outputId": "3e25880c-0d29-4277-f902-42930be52ea8"
      },
      "outputs": [
        {
          "output_type": "execute_result",
          "data": {
            "text/plain": [
              "5.0"
            ]
          },
          "metadata": {},
          "execution_count": 4
        }
      ],
      "source": [
        "#Wirte a Function for Mean\n",
        "def Mymean(*numb): # This axteris * was included because the arguments can be of any length; in this case values can be of any range. \n",
        "  Sum = 0\n",
        "  for i in numb:\n",
        "    Sum += i\n",
        "  return Sum/len(numb)\n",
        "\n",
        "Mymean(5,6,4)\n",
        "\n",
        "\n"
      ]
    },
    {
      "cell_type": "code",
      "source": [
        "import numpy as np\n",
        "# Given an array of numbers, print the elements in the array if the elements are greater than 2.\n",
        "\n",
        "my_array = np.array([[1,2,3,4], [5,6,7,8]])\n",
        "for i in my_array:\n",
        "  #print(i) testing rows in the array \n",
        "  for j in i:\n",
        "    #print(j) Test elements in the array\n",
        "    if j > 2:\n",
        "      print(j)\n"
      ],
      "metadata": {
        "colab": {
          "base_uri": "https://localhost:8080/"
        },
        "id": "e4KEOJyQ5dLA",
        "outputId": "47c1557b-7537-4af5-8e4e-85a1b5ea7f08"
      },
      "execution_count": 15,
      "outputs": [
        {
          "output_type": "stream",
          "name": "stdout",
          "text": [
            "3\n",
            "4\n",
            "5\n",
            "6\n",
            "7\n",
            "8\n"
          ]
        }
      ]
    },
    {
      "cell_type": "code",
      "source": [
        "#  Given a string x, find the length of the longest substring without repeating characters.\n",
        "# Input: x = 'chibcyddcc'\n",
        "# Output: 6\n",
        "\n",
        "x = 'chibcyddcc'\n",
        "output_str = '' # Be careful not to include space inbetween the parenthesis\n",
        "for i in x:\n",
        "  if i not in output_str:\n",
        "    output_str += i\n",
        "print(len(output_str))\n"
      ],
      "metadata": {
        "colab": {
          "base_uri": "https://localhost:8080/"
        },
        "id": "TUrrwNiz84nA",
        "outputId": "23c30839-5031-4a52-bafd-b98478bd1597"
      },
      "execution_count": 19,
      "outputs": [
        {
          "output_type": "stream",
          "name": "stdout",
          "text": [
            "6\n"
          ]
        }
      ]
    },
    {
      "cell_type": "code",
      "source": [
        "# Given a pandas data-frame of intergers, with m rows and n columns, \n",
        "# if an element in the data-frame is 0, set its entire row and column to 0's.\n",
        "import pandas as pd\n",
        "\n",
        "DF = { 'First' : [1,6,11,10],\n",
        "      'Second': [2,7,12,7],\n",
        "      'Third': [3,0,14,8],\n",
        "      'Forth': [4,4,17,19]}\n",
        "\n",
        "DFP = pd.DataFrame(DF)\n",
        "# print(DFP) #Code Testing\n",
        "for i in DFP.index:\n",
        "  print(['Second'][i])\n",
        "  \n",
        "\n",
        "   \n",
        "\n"
      ],
      "metadata": {
        "colab": {
          "base_uri": "https://localhost:8080/",
          "height": 252
        },
        "id": "laP2HfGa_YOA",
        "outputId": "30a4cee8-c099-4002-d35e-cbe05219858b"
      },
      "execution_count": 36,
      "outputs": [
        {
          "output_type": "stream",
          "name": "stdout",
          "text": [
            "Second\n"
          ]
        },
        {
          "output_type": "error",
          "ename": "IndexError",
          "evalue": "ignored",
          "traceback": [
            "\u001b[0;31m---------------------------------------------------------------------------\u001b[0m",
            "\u001b[0;31mIndexError\u001b[0m                                Traceback (most recent call last)",
            "\u001b[0;32m<ipython-input-36-7641bb1f7007>\u001b[0m in \u001b[0;36m<module>\u001b[0;34m\u001b[0m\n\u001b[1;32m     11\u001b[0m \u001b[0;31m# print(DFP) #Code Testing\u001b[0m\u001b[0;34m\u001b[0m\u001b[0;34m\u001b[0m\u001b[0;34m\u001b[0m\u001b[0m\n\u001b[1;32m     12\u001b[0m \u001b[0;32mfor\u001b[0m \u001b[0mi\u001b[0m \u001b[0;32min\u001b[0m \u001b[0mDFP\u001b[0m\u001b[0;34m.\u001b[0m\u001b[0mindex\u001b[0m\u001b[0;34m:\u001b[0m\u001b[0;34m\u001b[0m\u001b[0;34m\u001b[0m\u001b[0m\n\u001b[0;32m---> 13\u001b[0;31m   \u001b[0mprint\u001b[0m\u001b[0;34m(\u001b[0m\u001b[0;34m[\u001b[0m\u001b[0;34m'Second'\u001b[0m\u001b[0;34m]\u001b[0m\u001b[0;34m[\u001b[0m\u001b[0mi\u001b[0m\u001b[0;34m]\u001b[0m\u001b[0;34m)\u001b[0m\u001b[0;34m\u001b[0m\u001b[0;34m\u001b[0m\u001b[0m\n\u001b[0m\u001b[1;32m     14\u001b[0m \u001b[0;34m\u001b[0m\u001b[0m\n\u001b[1;32m     15\u001b[0m \u001b[0;34m\u001b[0m\u001b[0m\n",
            "\u001b[0;31mIndexError\u001b[0m: list index out of range"
          ]
        }
      ]
    }
  ]
}