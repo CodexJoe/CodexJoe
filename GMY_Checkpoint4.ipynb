{
  "nbformat": 4,
  "nbformat_minor": 0,
  "metadata": {
    "colab": {
      "provenance": [],
      "authorship_tag": "ABX9TyPUf3BxefrMbatFpf8jdzfx",
      "include_colab_link": true
    },
    "kernelspec": {
      "name": "python3",
      "display_name": "Python 3"
    },
    "language_info": {
      "name": "python"
    }
  },
  "cells": [
    {
      "cell_type": "markdown",
      "metadata": {
        "id": "view-in-github",
        "colab_type": "text"
      },
      "source": [
        "<a href=\"https://colab.research.google.com/github/CodexJoe/CodexJoe/blob/main/GMY_Checkpoint4.ipynb\" target=\"_parent\"><img src=\"https://colab.research.google.com/assets/colab-badge.svg\" alt=\"Open In Colab\"/></a>"
      ]
    },
    {
      "cell_type": "code",
      "execution_count": 15,
      "metadata": {
        "colab": {
          "base_uri": "https://localhost:8080/"
        },
        "id": "oP5M6a4i25JW",
        "outputId": "d5db1d4e-f504-484e-d050-07f0b3e06932"
      },
      "outputs": [
        {
          "output_type": "stream",
          "name": "stdout",
          "text": [
            "\n"
          ]
        }
      ],
      "source": [
        "F = open(r\"C:\\Users\\HP\\Downloads\\python.txt\", 'w+')\n",
        "t = F.read()\n",
        "print(t)\n"
      ]
    },
    {
      "cell_type": "code",
      "source": [
        "N = int(input('Please enter the number lines you want to read from the file: '))\n",
        "Reading = F.readlines()\n",
        "for x in Reading[0:N]:\n",
        "    print(x, end ='')"
      ],
      "metadata": {
        "colab": {
          "base_uri": "https://localhost:8080/"
        },
        "id": "nckOuTsI5aFn",
        "outputId": "0c27859e-9cf8-4b91-b938-45368b97a4ef"
      },
      "execution_count": 16,
      "outputs": [
        {
          "name": "stdout",
          "output_type": "stream",
          "text": [
            "Please enter the number lines you want to read from the file: 3\n"
          ]
        }
      ]
    },
    {
      "cell_type": "code",
      "source": [
        "Num = int(input(\"Enter N value: \"))\n",
        "Reading= F.readlines()\n",
        "for line in Reading[-(Num+1):]:\n",
        "        print(line, end ='')\n"
      ],
      "metadata": {
        "colab": {
          "base_uri": "https://localhost:8080/"
        },
        "id": "1SGwcbJfEqkw",
        "outputId": "951e4211-dd44-4173-8c66-7ee4a48f8318"
      },
      "execution_count": 18,
      "outputs": [
        {
          "name": "stdout",
          "output_type": "stream",
          "text": [
            "Enter N value: 3\n"
          ]
        }
      ]
    },
    {
      "cell_type": "code",
      "source": [
        "X = 0\n",
        "data = F.read()\n",
        "Split_Read = data.split()\n",
        "X += len(Split_Read)\n",
        "\n",
        "print(X)"
      ],
      "metadata": {
        "colab": {
          "base_uri": "https://localhost:8080/"
        },
        "id": "Q8nN-ZhBFSnJ",
        "outputId": "5a55f39c-41ce-40f2-b3ff-04f420bd60da"
      },
      "execution_count": 19,
      "outputs": [
        {
          "output_type": "stream",
          "name": "stdout",
          "text": [
            "0\n"
          ]
        }
      ]
    },
    {
      "cell_type": "code",
      "source": [],
      "metadata": {
        "id": "fxsMhbeUFJsu"
      },
      "execution_count": null,
      "outputs": []
    }
  ]
}