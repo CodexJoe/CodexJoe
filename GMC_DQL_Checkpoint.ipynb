{
  "nbformat": 4,
  "nbformat_minor": 0,
  "metadata": {
    "colab": {
      "provenance": [],
      "authorship_tag": "ABX9TyO7jmVsTiFqn+46dcHmof0Z",
      "include_colab_link": true
    },
    "kernelspec": {
      "name": "python3",
      "display_name": "Python 3"
    },
    "language_info": {
      "name": "python"
    }
  },
  "cells": [
    {
      "cell_type": "markdown",
      "metadata": {
        "id": "view-in-github",
        "colab_type": "text"
      },
      "source": [
        "<a href=\"https://colab.research.google.com/github/CodexJoe/CodexJoe/blob/main/GMC_DQL_Checkpoint.ipynb\" target=\"_parent\"><img src=\"https://colab.research.google.com/assets/colab-badge.svg\" alt=\"Open In Colab\"/></a>"
      ]
    },
    {
      "cell_type": "code",
      "execution_count": null,
      "metadata": {
        "id": "hRC1RvZLd61G"
      },
      "outputs": [],
      "source": []
    },
    {
      "cell_type": "markdown",
      "source": [
        "Objective\n",
        "We have the following relational model created. Now we are going to write SQL queries to retrieve data from these tables  using DQL language:\n",
        "\n",
        "CUSTOMER ( Customer_id, Customer_Name, Customer_Tel )\n",
        "PRODUCT ( Product_id, Product_Name, Category, Price )\n",
        "ORDERS ( #Customer_id, #Product_id, Orderdate, Quanatity, Total_amount )\n",
        "\n",
        "\n",
        "Instructions\n",
        "Write SQL commands to:\n",
        "\n",
        "1. Display all the data of customers\n",
        "2. Display the product_name and category for products whose price is between 5000 and 10000\n",
        "3. Display all the data of products sorted in descending order of price.\n",
        "4. Display the total number of orders, the average amount, the highest total amount, and the lower total amount\n",
        "5. For each product_id, display the number of orders\n",
        "6. Display the customer_id which has more than 2 orders\n",
        "7. For each month of 2020 year, display the number of orders\n",
        "8. For each order, display the product_name, the customer_name, and the date of the order\n",
        "9. Display all the orders made three months ago\n",
        "10. Display customers (customer_id) who have never ordered a product. \n",
        "\n",
        "\n",
        "**SOLUTIONS**\n",
        "\n",
        "(1)  SELECT * FROM CUSTOMER;\n",
        "\n",
        "(2)  SELECT product_name, Category FROM Product WHERE Price BETWEEN 5000 AND 10000; \n",
        "\n",
        "(3) SELECT * FROM Product ORDER BY Price DESC;\n",
        "\n",
        "(4)  SELECT SUM(quantity), AVG(total_amount), MAX(total_amount),  MIN(total_amount) FROM Orders;\n",
        "\n",
        "(5)  SELECT product_id, COUNT(quantity) FROM Orders \n",
        " GROUP BY product_id;\n",
        "\n",
        "(6)   SELECT customer_id, COUNT(quantity) from orders \n",
        " GROUP BY customer_id \n",
        " HAVING COUNT(quantity) > 2;\n",
        "\n",
        "(7)   SELECT * FROM \n",
        "`  (SELECT quantity, MONTH(OrderDate) as Months,\n",
        "   COUNT(MONTH(OrderDate)) as Order_Frequency\n",
        "  FROM orders as inner_Table\n",
        "  GROUP BY MONTH(OrderDate) ) as Outer_table\n",
        " WHERE YEAR(OrderDate) = 2020;\n",
        "\n",
        "(8)   SELECT product_name, customer_Name, OrderDate from orders\n",
        " INNER JOIN product\n",
        " ON Orders.product_id = Product.product_id\n",
        " INNER JOIN customer\n",
        " ON Orders.custmer_id = customer.customer_id;\n",
        "\n",
        "(9)   SELECT  * FROM \n",
        "  (SELECT * from orders as inner_table\n",
        "  WHERE MONTH(purchase_date) = MONTH(now()) -3)  \n",
        " AS outer_table WHERE YEAR(purchase_date) = YEAR(now()); \n",
        "\n",
        "(10)  SELECT customer.customer_id FROM customer\n",
        " LEFT JOIN Orders\n",
        " ON customer.customer_id = Orders.customer_id\n",
        " WHERE Orders.customer_id is NULL;\n"
      ],
      "metadata": {
        "id": "cw7uRbH2d7Vn"
      }
    }
  ]
}