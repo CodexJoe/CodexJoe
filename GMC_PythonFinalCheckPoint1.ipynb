{
  "nbformat": 4,
  "nbformat_minor": 0,
  "metadata": {
    "colab": {
      "provenance": [],
      "authorship_tag": "ABX9TyP6+WT2fbruIotpi/Prgz3G",
      "include_colab_link": true
    },
    "kernelspec": {
      "name": "python3",
      "display_name": "Python 3"
    },
    "language_info": {
      "name": "python"
    }
  },
  "cells": [
    {
      "cell_type": "markdown",
      "metadata": {
        "id": "view-in-github",
        "colab_type": "text"
      },
      "source": [
        "<a href=\"https://colab.research.google.com/github/CodexJoe/CodexJoe/blob/main/GMC_PythonFinalCheckPoint1.ipynb\" target=\"_parent\"><img src=\"https://colab.research.google.com/assets/colab-badge.svg\" alt=\"Open In Colab\"/></a>"
      ]
    },
    {
      "cell_type": "markdown",
      "source": [],
      "metadata": {
        "id": "1DakKFU0GG4b"
      }
    },
    {
      "cell_type": "markdown",
      "source": [
        "QUESTION 1. Display numbers from -10 to -1 using for loop\n"
      ],
      "metadata": {
        "id": "y4Tbo91NGL0b"
      }
    },
    {
      "cell_type": "code",
      "execution_count": 1,
      "metadata": {
        "colab": {
          "base_uri": "https://localhost:8080/"
        },
        "id": "Za-7H3wLn5ZA",
        "outputId": "af80a030-1085-411a-fac9-dd3db604f1cd"
      },
      "outputs": [
        {
          "output_type": "stream",
          "name": "stdout",
          "text": [
            "-10\n",
            "-9\n",
            "-8\n",
            "-7\n",
            "-6\n",
            "-5\n",
            "-4\n",
            "-3\n",
            "-2\n",
            "-1\n"
          ]
        }
      ],
      "source": [
        "\n",
        "for i in range(-10, 0): #This loops from -10 to -1\n",
        "  print(i)"
      ]
    },
    {
      "cell_type": "code",
      "source": [],
      "metadata": {
        "id": "eUA1xL7cIWeW"
      },
      "execution_count": null,
      "outputs": []
    },
    {
      "cell_type": "markdown",
      "source": [
        "QUESTION 2. Given a number count the total number of digits in a number, for example, the number is 75869, so the output should be 5"
      ],
      "metadata": {
        "id": "T1nDUw3XGhc9"
      }
    },
    {
      "cell_type": "code",
      "source": [
        "\n",
        "count = 1\n",
        "X = str(input())#This cast X as string\n",
        "for i in range(len(X)): #This is loops through X\n",
        "  count= i + 1 #since first iteration is counted as zero, one was added to the accurate number\n",
        "  \n",
        "print(count)\n",
        "\n"
      ],
      "metadata": {
        "colab": {
          "base_uri": "https://localhost:8080/"
        },
        "id": "7nedrN4VpEnJ",
        "outputId": "d9f23196-90f4-4f0e-f7ad-548510c5fa0b"
      },
      "execution_count": 3,
      "outputs": [
        {
          "output_type": "stream",
          "name": "stdout",
          "text": [
            "4355\n",
            "4\n"
          ]
        }
      ]
    },
    {
      "cell_type": "markdown",
      "source": [
        "QUESTION 3. Write a function which Displays the cube of the number up to a given integer, for example the number is 2 the cube should be 8\n"
      ],
      "metadata": {
        "id": "qwlecZJcGxd3"
      }
    },
    {
      "cell_type": "code",
      "source": [
        "\n",
        "def Cube(x):#A function named Cube was created0\n",
        "\n",
        "  C = x**3 # This performs the cubic operation\n",
        "  return C\n",
        "\n",
        "Cube(int(input('Enter a Number: '))) #Calling the function\n"
      ],
      "metadata": {
        "colab": {
          "base_uri": "https://localhost:8080/"
        },
        "id": "x_71KaGgs11O",
        "outputId": "c7387ebe-282d-4730-db31-ecea3df23f17"
      },
      "execution_count": 19,
      "outputs": [
        {
          "name": "stdout",
          "output_type": "stream",
          "text": [
            "Enter a Number: 4\n"
          ]
        },
        {
          "output_type": "execute_result",
          "data": {
            "text/plain": [
              "64"
            ]
          },
          "metadata": {},
          "execution_count": 19
        }
      ]
    },
    {
      "cell_type": "markdown",
      "source": [
        "QUESTION 4. Given two integer numbers return their product. If the product is greater than 1000, then return their sum"
      ],
      "metadata": {
        "id": "NvfLJN5cHP40"
      }
    },
    {
      "cell_type": "code",
      "source": [
        "\n",
        "\n",
        "\n",
        "def MulSum(x, y):#A function called MulSum is created\n",
        "  P = x*y #This perfomrs the product operation\n",
        "  if P > 1000: #This checks if product is greated than 1000\n",
        "    return (x+y) # The summation operation was performed for meeting above condition\n",
        "  else:\n",
        "    return P # Product is returned for not meeting the above condition\n",
        "\n",
        "MulSum(10, 50) # The function was called here"
      ],
      "metadata": {
        "colab": {
          "base_uri": "https://localhost:8080/"
        },
        "id": "wh4_mhzEv3QW",
        "outputId": "a9916dea-ccef-4d04-9413-602e46d375d7"
      },
      "execution_count": 21,
      "outputs": [
        {
          "output_type": "execute_result",
          "data": {
            "text/plain": [
              "500"
            ]
          },
          "metadata": {},
          "execution_count": 21
        }
      ]
    },
    {
      "cell_type": "markdown",
      "source": [
        "QUESTION 5. Given a list of numbers, return True if first and last number of a list is same\n"
      ],
      "metadata": {
        "id": "ctpUNgg2HYtT"
      }
    },
    {
      "cell_type": "code",
      "source": [
        "\n",
        "MyLis = list(input('Please put number here: ')) #Accepts an input casted as list from the user\n",
        "\n",
        "if MyLis[0] == MyLis[-1]: # Checks if first number is the same as last number\n",
        "    print(True) #Prints True for meeting above condition\n",
        "\n"
      ],
      "metadata": {
        "colab": {
          "base_uri": "https://localhost:8080/"
        },
        "id": "n6re9E2hw-QT",
        "outputId": "46c37a51-fffa-4d7f-dcf3-ad6e18a3ca04"
      },
      "execution_count": 26,
      "outputs": [
        {
          "output_type": "stream",
          "name": "stdout",
          "text": [
            "Please put number here: 45674\n",
            "True\n"
          ]
        }
      ]
    },
    {
      "cell_type": "markdown",
      "source": [
        "QUESTION 6. Given a two list of numbers create a new list such that new list should contain only odd numbers from the first list and even numbers from the second list, for example list1 =  [10, 20, 23, 11, 17] and list 2 = [13, 43, 24, 36, 12]  => result should be [23, 11, 17, 24, 36, 12]"
      ],
      "metadata": {
        "id": "Wi6RWyB_HyfW"
      }
    },
    {
      "cell_type": "code",
      "source": [
        "\n",
        "list1 =  [10, 20, 23, 11, 17] \n",
        "list2 = [13, 43, 24, 36, 12]\n",
        "List3 = [] #creating an empty list that will hold the new list\n",
        "for i in range(len(list1)):\n",
        "  if list1[i]%2 != 0:#This checks for the first condition\n",
        "    List3.append(list1[i])#adds the items in list1 that fullfills the first condition into the new list\n",
        "for i in range(len(list2)): \n",
        "  if list2[i]%2 == 0:# This checks for the second condition\n",
        "    List3.append(list2[i])#adds the items in list2 that fullfills the first condition into the new list\n",
        "\n",
        "print(List3)"
      ],
      "metadata": {
        "colab": {
          "base_uri": "https://localhost:8080/"
        },
        "id": "u1_nXka-zC2M",
        "outputId": "cb8a6867-5928-4cbd-fa14-aed64d5a378b"
      },
      "execution_count": 30,
      "outputs": [
        {
          "output_type": "stream",
          "name": "stdout",
          "text": [
            "[23, 11, 17, 24, 36, 12]\n"
          ]
        }
      ]
    },
    {
      "cell_type": "markdown",
      "source": [
        "QUESTION 7. Write a function which Iterates a given list and counts the occurrence of each element and creates a dictionary to show the count of each element, for example: input list  [11, 45, 8, 11, 23, 45, 23, 45, 89]=> result should be {11: 2, 45: 3, 8: 1, 23: 2, 89: 1}"
      ],
      "metadata": {
        "id": "lum22mpVIAG7"
      }
    },
    {
      "cell_type": "code",
      "source": [
        "\n",
        "Y =  [11, 45, 8, 11, 23, 45, 23, 45, 89]\n",
        "from collections import Counter # Counter function is used in performing this operation; hence it was imported from collections module\n",
        "Z= Counter(Y) # This line of code perform the operation on Y\n",
        "print(Z)\n"
      ],
      "metadata": {
        "colab": {
          "base_uri": "https://localhost:8080/"
        },
        "id": "5NoSodmy30uv",
        "outputId": "29a96bf4-2608-4a03-9540-4ec54afbb105"
      },
      "execution_count": 37,
      "outputs": [
        {
          "output_type": "stream",
          "name": "stdout",
          "text": [
            "Counter({45: 3, 11: 2, 23: 2, 8: 1, 89: 1})\n"
          ]
        }
      ]
    },
    {
      "cell_type": "markdown",
      "source": [
        "QUESTION 8. Write a function which finds the intersection of two sets and removes common elements from the first set. for example: First Set  {65, 42, 78, 83, 23, 57, 29} and Second Set  {67, 73, 43, 48, 83, 57, 29} => Intersection should be  {57, 83, 29} and First Set after removing common element  {65, 42, 78, 23}"
      ],
      "metadata": {
        "id": "W2EDK3RiILgX"
      }
    },
    {
      "cell_type": "code",
      "source": [
        "\n",
        "SetA = {65, 42, 78, 83, 23, 57, 29} \n",
        "SetB = {67, 73, 43, 48, 83, 57, 29} \n",
        "SetC = SetA & SetB # This operation gets the intersect between SetA and SetB\n",
        "print(\"The intersect of SetA and SetB is: \", SetC)\n",
        "SetD = SetA - SetC # This operation gets the elements in SetA but not in SetB\n",
        "print(\"This operation gets the elements in SetA but not in SetB are: \", SetD)\n",
        "\n"
      ],
      "metadata": {
        "colab": {
          "base_uri": "https://localhost:8080/"
        },
        "id": "eU_OggIV4dMN",
        "outputId": "5f897fe2-0f95-4f30-bc17-5b57452798e7"
      },
      "execution_count": 36,
      "outputs": [
        {
          "output_type": "stream",
          "name": "stdout",
          "text": [
            "The intersect of SetA and SetB is:  {57, 83, 29}\n",
            "This operation gets the elements in SetA but not in SetB are:  {65, 42, 78, 23}\n"
          ]
        }
      ]
    }
  ]
}